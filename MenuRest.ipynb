{
  "nbformat": 4,
  "nbformat_minor": 0,
  "metadata": {
    "colab": {
      "name": "MenuRest.ipynb",
      "provenance": [],
      "collapsed_sections": []
    },
    "kernelspec": {
      "name": "python3",
      "display_name": "Python 3"
    },
    "language_info": {
      "name": "python"
    }
  },
  "cells": [
    {
      "cell_type": "code",
      "metadata": {
        "id": "vo31wP74g4cb",
        "colab": {
          "base_uri": "https://localhost:8080/"
        },
        "outputId": "855699ee-0482-4946-93b1-4394c812c72c"
      },
      "source": [
        "menu_select = (3,2,\"Ensalada verde\",\"crema de zanahoria\",\"filete\",\"Filete término medio\",\"la ensalada sin ningun tipo de semilla, Adereso Ranch\")\n",
        "print('Detalle:\\n       MESA:',menu_select[0],'\\n       COMENSAL:',menu_select[1])\n",
        "print('       ENTRADA:',menu_select[2],'\\n       MEDIO:',menu_select[3])\n",
        "print('       FUERTE:',menu_select[4],'\\n       ADICIONALES:',menu_select[5])\n",
        "print(menu_select[6])\n"
      ],
      "execution_count": 144,
      "outputs": [
        {
          "output_type": "stream",
          "name": "stdout",
          "text": [
            "Detalle:\n",
            "       MESA: 3 \n",
            "       COMENSAL: 2\n",
            "       ENTRADA: Ensalada verde \n",
            "       MEDIO: crema de zanahoria\n",
            "       FUERTE: filete \n",
            "       ADICIONALES: Filete término medio\n",
            "la ensalada sin ningun tipo de semilla, Adereso Ranch\n"
          ]
        }
      ]
    }
  ]
}